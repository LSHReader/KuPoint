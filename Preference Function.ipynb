{
 "cells": [
  {
   "cell_type": "markdown",
   "metadata": {},
   "source": [
    "#### 온라인 선호지수 도출하는 함수\n",
    "\n",
    "#### [달라지는 변수]\n",
    "#### 1)sampling 개수 from customer segmetation : 10000명, 20000명\n",
    "#### 2)distance 종류 : cosine, euclidean, correlation\n",
    "#### 3)kmeans clustering 적용 or not"
   ]
  },
  {
   "cell_type": "code",
   "execution_count": 2,
   "metadata": {
    "collapsed": true
   },
   "outputs": [],
   "source": [
    "import numpy as np\n",
    "import pandas as pd\n",
    "import sklearn\n",
    "from pandas import Series, DataFrame\n",
    "import seaborn as sns\n",
    "import matplotlib.pyplot as plt\n",
    "from pathlib import Path\n",
    "import os\n",
    "import pickle"
   ]
  },
  {
   "cell_type": "code",
   "execution_count": 3,
   "metadata": {
    "collapsed": true
   },
   "outputs": [],
   "source": [
    "from sklearn.model_selection import train_test_split\n",
    "from sklearn.metrics import pairwise_distances\n",
    "from sklearn.metrics.pairwise import cosine_similarity\n",
    "from scipy.spatial.distance import cosine, euclidean\n",
    "from sklearn.neighbors import NearestNeighbors\n",
    "from scipy.spatial import distance"
   ]
  },
  {
   "cell_type": "code",
   "execution_count": 4,
   "metadata": {
    "collapsed": true
   },
   "outputs": [],
   "source": [
    "from sklearn.metrics import mean_squared_error\n",
    "from math import sqrt\n",
    "def get_mse(pred,actual):\n",
    "    pred = pred[actual.nonzero()].flatten()\n",
    "    actual = actual[actual.nonzero()].flatten()\n",
    "    \n",
    "    return mean_squared_error(pred, actual)\n",
    "def get_rmse(pred,actual):\n",
    "    pred = pred[actual.nonzero()].flatten()\n",
    "    actual = actual[actual.nonzero()].flatten()\n",
    "    \n",
    "    return sqrt(mean_squared_error(pred, actual))"
   ]
  },
  {
   "cell_type": "markdown",
   "metadata": {},
   "source": [
    "# 1. 구매선호지수"
   ]
  },
  {
   "cell_type": "markdown",
   "metadata": {},
   "source": [
    "## 1) 10000명 sampling"
   ]
  },
  {
   "cell_type": "code",
   "execution_count": 16,
   "metadata": {},
   "outputs": [
    {
     "name": "stdout",
     "output_type": "stream",
     "text": [
      "Sparsity: {:4.2f}% 13.162443018558125\n",
      "(5029, 37)\n",
      "(2477, 37)\n"
     ]
    }
   ],
   "source": [
    "#데이터 불러오기 및 초기화\n",
    "Purchase_Count = pd.read_csv(\"C:/Users/lsh93/Desktop/Lpoint/data2/Purchase_Count.csv\")\n",
    "Purchase_Count = Purchase_Count.rename(columns = {'Unnamed: 0':'CLNT_ID'})\n",
    "clustered_10000 = pd.read_csv(\"C:/Users/lsh93/Desktop/Lpoint/output2/clustered_10000.csv\", encoding = \"UTF-8\")\n",
    "clustered_10000 = clustered_10000.drop(['Unnamed: 0'], axis = 1)\n",
    "Purchase_Count = pd.merge(Purchase_Count, clustered_10000[['CLNT_ID']], how = 'inner', on ='CLNT_ID')\n",
    "row_names = Purchase_Count['CLNT_ID'].as_matrix()\n",
    "col_names = Purchase_Count.columns.values\n",
    "col_names = col_names[1:]\n",
    "PC = Purchase_Count.as_matrix()\n",
    "PC = PC[:,1:]\n",
    "Purchase_Count = pd.DataFrame(PC, columns = col_names, index = row_names)\n",
    "#sparsity구하기\n",
    "sparsity = float(len(PC.nonzero()[0]))\n",
    "sparsity /= (PC.shape[0] * PC.shape[1])\n",
    "sparsity *= 100\n",
    "print('Sparsity: {:4.2f}%',format(sparsity))\n",
    "#test set과 training set으로 나누기\n",
    "PC_train, PC_test = train_test_split(Purchase_Count, test_size = 0.33, random_state = 50)\n",
    "print(PC_train.shape)\n",
    "print(PC_test.shape)\n",
    "PC_train = pd.DataFrame(PC_train)\n",
    "PC_test = pd.DataFrame(PC_test)\n",
    "#array 형태로 변환\n",
    "train_mat = PC_train.as_matrix()\n",
    "test_mat = PC_test.as_matrix()"
   ]
  },
  {
   "cell_type": "markdown",
   "metadata": {},
   "source": [
    "## 2) 20000명 sampling"
   ]
  },
  {
   "cell_type": "code",
   "execution_count": 26,
   "metadata": {},
   "outputs": [
    {
     "name": "stdout",
     "output_type": "stream",
     "text": [
      "Sparsity: {:4.2f}% 14.349619166222743\n",
      "(10265, 37)\n",
      "(5057, 37)\n"
     ]
    }
   ],
   "source": [
    "#데이터 불러오기 및 초기화\n",
    "Purchase_Count = pd.read_csv(\"C:/Users/lsh93/Desktop/Lpoint/data2/Purchase_Count.csv\")\n",
    "Purchase_Count = Purchase_Count.rename(columns = {'Unnamed: 0':'CLNT_ID'})\n",
    "clustered_10000 = pd.read_csv(\"C:/Users/lsh93/Desktop/Lpoint/output2/clustered_20000.csv\", encoding = \"UTF-8\")\n",
    "clustered_10000 = clustered_10000.drop(['Unnamed: 0'], axis = 1)\n",
    "Purchase_Count = pd.merge(Purchase_Count, clustered_10000[['CLNT_ID']], how = 'inner', on ='CLNT_ID')\n",
    "row_names = Purchase_Count['CLNT_ID'].as_matrix()\n",
    "col_names = Purchase_Count.columns.values\n",
    "col_names = col_names[1:]\n",
    "PC = Purchase_Count.as_matrix()\n",
    "PC = PC[:,1:]\n",
    "Purchase_Count = pd.DataFrame(PC, columns = col_names, index = row_names)\n",
    "#sparsity구하기\n",
    "sparsity = float(len(PC.nonzero()[0]))\n",
    "sparsity /= (PC.shape[0] * PC.shape[1])\n",
    "sparsity *= 100\n",
    "print('Sparsity: {:4.2f}%',format(sparsity))\n",
    "#test set과 training set으로 나누기\n",
    "PC_train, PC_test = train_test_split(Purchase_Count, test_size = 0.33, random_state = 50)\n",
    "print(PC_train.shape)\n",
    "print(PC_test.shape)\n",
    "PC_train = pd.DataFrame(PC_train)\n",
    "PC_test = pd.DataFrame(PC_test)\n",
    "#array 형태로 변환\n",
    "train_mat = PC_train.as_matrix()\n",
    "test_mat = PC_test.as_matrix()"
   ]
  },
  {
   "cell_type": "markdown",
   "metadata": {},
   "source": [
    "### 구매선호지수 계산"
   ]
  },
  {
   "cell_type": "code",
   "execution_count": 20,
   "metadata": {
    "collapsed": true
   },
   "outputs": [],
   "source": [
    "###파라메터 = k랑 코사인 \n",
    "def purchase_prediction(train_mat, test_mat, metric_, k, output = False, scaling = False):\n",
    "    if scaling == True:\n",
    "        train_mat = (train_mat.T/train_mat.sum(axis=1)).T\n",
    "        test_mat = (test_mat.T/test_mat.sum(axis=1)).T\n",
    "    \n",
    "    dist_out = 1 - pairwise_distances(train_mat, metric= metric_)\n",
    "\n",
    "    #without kmeans clustering\n",
    "    user_pred = dist_out.dot(train_mat)/np.array([np.abs(dist_out).sum(axis = 1)]).T\n",
    "    print('w/o kmeans, train RMSE:  ',get_rmse(user_pred, train_mat))\n",
    "    print('w/o kmeans, testRMSE:  ',get_rmse(user_pred, test_mat))\n",
    "    print('w/o kmeans, train stdev:  ',np.std(user_pred - train_mat))\n",
    "\n",
    "    \n",
    "    #with kmeans clustering\n",
    "    neigh = NearestNeighbors(k, metric_)\n",
    "    neigh.fit(train_mat)\n",
    "    top_k_distances, top_k_users = neigh.kneighbors(train_mat, return_distance = True)\n",
    "    user_pred_k = np.zeros(train_mat.shape)\n",
    "    \n",
    "    for i in range(PC_train.shape[0]):\n",
    "        user_pred_k[i,:] = top_k_distances[i].T.dot(train_mat[top_k_users][i]) / np.array([np.abs(top_k_distances[i].T).sum(axis = 0)]).T  \n",
    "    online_pref = pd.DataFrame(user_pred_k)\n",
    "    na_element_index = np.where(np.isnan(online_pref))\n",
    "    na_row_index = np.unique(na_element_index[0])\n",
    "    removed_CLNT_ID = PC_train.index.values[na_row_index]\n",
    "    existed_CLNT_ID = np.delete(PC_train.index.values,na_row_index)\n",
    "    online_pref2 = online_pref.dropna()\n",
    "    user_pred_k2 = online_pref2.as_matrix()\n",
    "    train_mat2 = train_mat\n",
    "    exist_idx = np.delete([range(online_pref.shape[0])],na_row_index)\n",
    "    train_mat2 = train_mat2[exist_idx,:]\n",
    "    print('w/ kmeans, train:  ',get_rmse(user_pred_k2, train_mat2))\n",
    "    print('w/ kmeans, test:  ',get_rmse(user_pred_k2, test_mat))\n",
    "    print('w/ kmeans, train stdev:  ',np.std(user_pred_k2 - train_mat2))\n",
    "\n",
    "\n",
    "    #kmeans 적용한 선호지수 matrix 생성\n",
    "    if output == True :\n",
    "        col_names = Purchase_Count.columns.values\n",
    "        row_names = existed_CLNT_ID\n",
    "        Online_Preference_Count = pd.DataFrame(user_pred_k2, columns = col_names, index = row_names)\n",
    "        return Online_Preference_Count"
   ]
  },
  {
   "cell_type": "markdown",
   "metadata": {},
   "source": [
    "- 10000명 experiments"
   ]
  },
  {
   "cell_type": "code",
   "execution_count": 21,
   "metadata": {},
   "outputs": [
    {
     "name": "stdout",
     "output_type": "stream",
     "text": [
      "w/o kmeans, train RMSE:   9.28956839596843\n",
      "w/o kmeans, testRMSE:   9.847761522688266\n",
      "w/o kmeans, train stdev:   3.45869924342\n"
     ]
    },
    {
     "name": "stderr",
     "output_type": "stream",
     "text": [
      "C:\\Users\\lsh93\\Anaconda3\\lib\\site-packages\\ipykernel_launcher.py:23: RuntimeWarning: invalid value encountered in true_divide\n"
     ]
    },
    {
     "name": "stdout",
     "output_type": "stream",
     "text": [
      "w/ kmeans, train:   5.351571593734643\n",
      "w/ kmeans, test:   10.930232796349458\n",
      "w/ kmeans, train stdev:   2.12794348819\n"
     ]
    }
   ],
   "source": [
    "#10000명 sampling한 경우, cosine distance 쓴 경우, k = 5\n",
    "opc = purchase_prediction(train_mat,test_mat, \"cosine\", 5, True)"
   ]
  },
  {
   "cell_type": "code",
   "execution_count": 22,
   "metadata": {},
   "outputs": [
    {
     "name": "stdout",
     "output_type": "stream",
     "text": [
      "w/o kmeans, train RMSE:   13.5154434821945\n",
      "w/o kmeans, testRMSE:   14.28976224339411\n",
      "w/o kmeans, train stdev:   5.10558624956\n"
     ]
    },
    {
     "name": "stderr",
     "output_type": "stream",
     "text": [
      "C:\\Users\\lsh93\\Anaconda3\\lib\\site-packages\\ipykernel_launcher.py:23: RuntimeWarning: invalid value encountered in true_divide\n"
     ]
    },
    {
     "name": "stdout",
     "output_type": "stream",
     "text": [
      "w/ kmeans, train:   5.351571593734643\n",
      "w/ kmeans, test:   10.930232796349458\n",
      "w/ kmeans, train stdev:   2.12794348819\n"
     ]
    }
   ],
   "source": [
    "#10000명 sampling한 경우, euclidean distance 쓴 경우, k = 5\n",
    "opc = purchase_prediction(train_mat,test_mat, \"euclidean\", 5, True)"
   ]
  },
  {
   "cell_type": "code",
   "execution_count": 23,
   "metadata": {},
   "outputs": [
    {
     "name": "stdout",
     "output_type": "stream",
     "text": [
      "w/o kmeans, train RMSE:   9.241663296687049\n",
      "w/o kmeans, testRMSE:   9.968715144383735\n",
      "w/o kmeans, train stdev:   3.40259162641\n"
     ]
    },
    {
     "name": "stderr",
     "output_type": "stream",
     "text": [
      "C:\\Users\\lsh93\\Anaconda3\\lib\\site-packages\\ipykernel_launcher.py:23: RuntimeWarning: invalid value encountered in true_divide\n"
     ]
    },
    {
     "name": "stdout",
     "output_type": "stream",
     "text": [
      "w/ kmeans, train:   5.351571593734643\n",
      "w/ kmeans, test:   10.930232796349458\n",
      "w/ kmeans, train stdev:   2.12794348819\n"
     ]
    }
   ],
   "source": [
    "#10000명 sampling한 경우, correlation 쓴 경우, k = 5\n",
    "opc = purchase_prediction(train_mat,test_mat, \"correlation\", 5, True)"
   ]
  },
  {
   "cell_type": "code",
   "execution_count": 24,
   "metadata": {},
   "outputs": [
    {
     "name": "stdout",
     "output_type": "stream",
     "text": [
      "w/o kmeans, train RMSE:   0.1677252391526864\n",
      "w/o kmeans, testRMSE:   0.2641165824386254\n",
      "w/o kmeans, train stdev:   0.0649180844801\n"
     ]
    },
    {
     "name": "stderr",
     "output_type": "stream",
     "text": [
      "C:\\Users\\lsh93\\Anaconda3\\lib\\site-packages\\ipykernel_launcher.py:23: RuntimeWarning: invalid value encountered in true_divide\n"
     ]
    },
    {
     "name": "stdout",
     "output_type": "stream",
     "text": [
      "w/ kmeans, train:   0.05215676032242864\n",
      "w/ kmeans, test:   0.292767126202287\n",
      "w/ kmeans, train stdev:   0.0233360136695\n",
      "w/o kmeans, train RMSE:   0.20399615995628823\n",
      "w/o kmeans, testRMSE:   0.288027043302705\n",
      "w/o kmeans, train stdev:   0.077398111886\n",
      "w/ kmeans, train:   0.05215676032242864\n",
      "w/ kmeans, test:   0.292767126202287\n",
      "w/ kmeans, train stdev:   0.0233360136695\n",
      "w/o kmeans, train RMSE:   0.16975341065612612\n",
      "w/o kmeans, testRMSE:   0.2750306214814878\n",
      "w/o kmeans, train stdev:   0.0633432620587\n",
      "w/ kmeans, train:   0.05215676032242864\n",
      "w/ kmeans, test:   0.292767126202287\n",
      "w/ kmeans, train stdev:   0.0233360136695\n"
     ]
    }
   ],
   "source": [
    "##Scaling 적용할 경우\n",
    "#10000명 sampling한 경우, cosine distance 쓴 경우, k = 5\n",
    "opc = purchase_prediction(train_mat,test_mat, \"cosine\", 5, True, True)\n",
    "opc = purchase_prediction(train_mat,test_mat, \"euclidean\", 5, True, True)\n",
    "opc = purchase_prediction(train_mat,test_mat, \"correlation\", 5, True, True)"
   ]
  },
  {
   "cell_type": "markdown",
   "metadata": {},
   "source": [
    "- 20000명 experiments"
   ]
  },
  {
   "cell_type": "code",
   "execution_count": 27,
   "metadata": {},
   "outputs": [
    {
     "name": "stdout",
     "output_type": "stream",
     "text": [
      "w/o kmeans, train RMSE:   20.200295397717085\n",
      "w/o kmeans, testRMSE:   24.22994776465791\n",
      "w/o kmeans, train stdev:   7.69822238368\n"
     ]
    },
    {
     "name": "stderr",
     "output_type": "stream",
     "text": [
      "C:\\Users\\lsh93\\Anaconda3\\lib\\site-packages\\ipykernel_launcher.py:23: RuntimeWarning: invalid value encountered in true_divide\n"
     ]
    },
    {
     "name": "stdout",
     "output_type": "stream",
     "text": [
      "w/ kmeans, train:   9.619011073912185\n",
      "w/ kmeans, test:   24.719141408369648\n",
      "w/ kmeans, train stdev:   3.93621962853\n"
     ]
    }
   ],
   "source": [
    "#20000명 sampling한 경우, cosine distance 쓴 경우, k = 5\n",
    "opc = purchase_prediction(train_mat,test_mat, \"cosine\", 5, True) "
   ]
  },
  {
   "cell_type": "code",
   "execution_count": 28,
   "metadata": {},
   "outputs": [
    {
     "name": "stdout",
     "output_type": "stream",
     "text": [
      "w/o kmeans, train RMSE:   27.468059645884846\n",
      "w/o kmeans, testRMSE:   29.671633713123644\n",
      "w/o kmeans, train stdev:   22.8442640957\n"
     ]
    },
    {
     "name": "stderr",
     "output_type": "stream",
     "text": [
      "C:\\Users\\lsh93\\Anaconda3\\lib\\site-packages\\ipykernel_launcher.py:23: RuntimeWarning: invalid value encountered in true_divide\n"
     ]
    },
    {
     "name": "stdout",
     "output_type": "stream",
     "text": [
      "w/ kmeans, train:   9.619011073912185\n",
      "w/ kmeans, test:   24.719141408369648\n",
      "w/ kmeans, train stdev:   3.93621962853\n"
     ]
    }
   ],
   "source": [
    "#20000명 sampling한 경우, euclidean distance 쓴 경우, k = 5\n",
    "opc = purchase_prediction(train_mat,test_mat, \"euclidean\", 5, True) "
   ]
  },
  {
   "cell_type": "code",
   "execution_count": 29,
   "metadata": {},
   "outputs": [
    {
     "name": "stdout",
     "output_type": "stream",
     "text": [
      "w/o kmeans, train RMSE:   23.474500361145516\n",
      "w/o kmeans, testRMSE:   24.332507635967072\n",
      "w/o kmeans, train stdev:   8.90987124053\n"
     ]
    },
    {
     "name": "stderr",
     "output_type": "stream",
     "text": [
      "C:\\Users\\lsh93\\Anaconda3\\lib\\site-packages\\ipykernel_launcher.py:23: RuntimeWarning: invalid value encountered in true_divide\n"
     ]
    },
    {
     "name": "stdout",
     "output_type": "stream",
     "text": [
      "w/ kmeans, train:   9.619011073912185\n",
      "w/ kmeans, test:   24.719141408369648\n",
      "w/ kmeans, train stdev:   3.93621962853\n"
     ]
    }
   ],
   "source": [
    "#20000명 sampling한 경우, correlation 쓴 경우, k = 5\n",
    "opc = purchase_prediction(train_mat,test_mat, \"correlation\", 5, True)"
   ]
  },
  {
   "cell_type": "code",
   "execution_count": 30,
   "metadata": {},
   "outputs": [
    {
     "name": "stdout",
     "output_type": "stream",
     "text": [
      "w/o kmeans, train RMSE:   0.16695596844688612\n",
      "w/o kmeans, testRMSE:   0.2517848860790095\n",
      "w/o kmeans, train stdev:   0.0670774424907\n"
     ]
    },
    {
     "name": "stderr",
     "output_type": "stream",
     "text": [
      "C:\\Users\\lsh93\\Anaconda3\\lib\\site-packages\\ipykernel_launcher.py:23: RuntimeWarning: invalid value encountered in true_divide\n"
     ]
    },
    {
     "name": "stdout",
     "output_type": "stream",
     "text": [
      "w/ kmeans, train:   0.04635142046169629\n",
      "w/ kmeans, test:   0.27879680468892437\n",
      "w/ kmeans, train stdev:   0.021352061395\n",
      "w/o kmeans, train RMSE:   0.21002514607048922\n",
      "w/o kmeans, testRMSE:   0.27109046376027335\n",
      "w/o kmeans, train stdev:   0.0823037325115\n",
      "w/ kmeans, train:   0.04635142046169629\n",
      "w/ kmeans, test:   0.27879680468892437\n",
      "w/ kmeans, train stdev:   0.021352061395\n",
      "w/o kmeans, train RMSE:   0.17371314563730972\n",
      "w/o kmeans, testRMSE:   0.26374844476149106\n",
      "w/o kmeans, train stdev:   0.0671125731231\n",
      "w/ kmeans, train:   0.04635142046169629\n",
      "w/ kmeans, test:   0.27879680468892437\n",
      "w/ kmeans, train stdev:   0.021352061395\n"
     ]
    }
   ],
   "source": [
    "##Scaling 적용할 경우\n",
    "#20000명 sampling한 경우, cosine distance 쓴 경우, k = 5\n",
    "opc = purchase_prediction(train_mat,test_mat, \"cosine\", 5, True, True)\n",
    "opc = purchase_prediction(train_mat,test_mat, \"euclidean\", 5, True, True)\n",
    "opc = purchase_prediction(train_mat,test_mat, \"correlation\", 5, True, True)"
   ]
  },
  {
   "cell_type": "markdown",
   "metadata": {},
   "source": [
    "# 2. 검색선호지수"
   ]
  },
  {
   "cell_type": "markdown",
   "metadata": {},
   "source": [
    "## 1)10000명 sampling"
   ]
  },
  {
   "cell_type": "code",
   "execution_count": 31,
   "metadata": {},
   "outputs": [
    {
     "name": "stdout",
     "output_type": "stream",
     "text": [
      "Sparsity: {:4.2f}% 10.11659141155544\n",
      "(5029, 37)\n",
      "(2477, 37)\n"
     ]
    }
   ],
   "source": [
    "#데이터 불러오기 및 초기화\n",
    "Search_Count = pd.read_csv(\"C:/Users/lsh93/Desktop/Lpoint/data2/Search_CNT.csv\")\n",
    "Search_Count = Search_Count.rename(columns = {'Unnamed: 0':'CLNT_ID'})\n",
    "clustered_10000 = pd.read_csv(\"C:/Users/lsh93/Desktop/Lpoint/output2/clustered_10000.csv\", encoding = \"UTF-8\")\n",
    "clustered_10000 = clustered_10000.drop(['Unnamed: 0'], axis = 1)\n",
    "Search_Count = pd.merge(Search_Count, clustered_10000[['CLNT_ID']], how = 'inner', on ='CLNT_ID')\n",
    "row_names = Search_Count['CLNT_ID'].as_matrix()\n",
    "col_names = Search_Count.columns.values\n",
    "col_names = col_names[1:]\n",
    "PC = Search_Count.as_matrix()\n",
    "PC = PC[:,1:]\n",
    "Search_Count = pd.DataFrame(PC, columns = col_names, index = row_names)\n",
    "#sparsity구하기\n",
    "sparsity = float(len(PC.nonzero()[0]))\n",
    "sparsity /= (PC.shape[0] * PC.shape[1])\n",
    "sparsity *= 100\n",
    "print('Sparsity: {:4.2f}%',format(sparsity))\n",
    "#test set과 training set으로 나누기\n",
    "PC_train, PC_test = train_test_split(Search_Count, test_size = 0.33, random_state = 50)\n",
    "print(PC_train.shape)\n",
    "print(PC_test.shape)\n",
    "PC_train = pd.DataFrame(PC_train)\n",
    "PC_test = pd.DataFrame(PC_test)\n",
    "#array 형태로 변환\n",
    "train_mat = PC_train.as_matrix()\n",
    "test_mat = PC_test.as_matrix()"
   ]
  },
  {
   "cell_type": "markdown",
   "metadata": {},
   "source": [
    "## 2)20000명 sampling"
   ]
  },
  {
   "cell_type": "code",
   "execution_count": 37,
   "metadata": {},
   "outputs": [
    {
     "name": "stdout",
     "output_type": "stream",
     "text": [
      "Sparsity: {:4.2f}% 10.898478428826948\n",
      "(10265, 37)\n",
      "(5057, 37)\n"
     ]
    }
   ],
   "source": [
    "#데이터 불러오기 및 초기화\n",
    "Search_Count = pd.read_csv(\"C:/Users/lsh93/Desktop/Lpoint/data2/Search_CNT.csv\")\n",
    "Search_Count = Search_Count.rename(columns = {'Unnamed: 0':'CLNT_ID'})\n",
    "clustered_10000 = pd.read_csv(\"C:/Users/lsh93/Desktop/Lpoint/output2/clustered_20000.csv\", encoding = \"UTF-8\")\n",
    "clustered_10000 = clustered_10000.drop(['Unnamed: 0'], axis = 1)\n",
    "Search_Count = pd.merge(Search_Count, clustered_10000[['CLNT_ID']], how = 'inner', on ='CLNT_ID')\n",
    "row_names = Search_Count['CLNT_ID'].as_matrix()\n",
    "col_names = Search_Count.columns.values\n",
    "col_names = col_names[1:]\n",
    "PC = Search_Count.as_matrix()\n",
    "PC = PC[:,1:]\n",
    "Search_Count = pd.DataFrame(PC, columns = col_names, index = row_names)\n",
    "#sparsity구하기\n",
    "sparsity = float(len(PC.nonzero()[0]))\n",
    "sparsity /= (PC.shape[0] * PC.shape[1])\n",
    "sparsity *= 100\n",
    "print('Sparsity: {:4.2f}%',format(sparsity))\n",
    "#test set과 training set으로 나누기\n",
    "PC_train, PC_test = train_test_split(Search_Count, test_size = 0.33, random_state = 50)\n",
    "print(PC_train.shape)\n",
    "print(PC_test.shape)\n",
    "PC_train = pd.DataFrame(PC_train)\n",
    "PC_test = pd.DataFrame(PC_test)\n",
    "#array 형태로 변환\n",
    "train_mat = PC_train.as_matrix()\n",
    "test_mat = PC_test.as_matrix()"
   ]
  },
  {
   "cell_type": "markdown",
   "metadata": {},
   "source": [
    "### 검색선호지수 계산"
   ]
  },
  {
   "cell_type": "code",
   "execution_count": 32,
   "metadata": {
    "collapsed": true
   },
   "outputs": [],
   "source": [
    "###파라메터 = k랑 코사인 \n",
    "def search_prediction(train_mat, test_mat, metric_, k, output = False, scaling = False):\n",
    "    if scaling == True:\n",
    "        train_mat = (train_mat.T/train_mat.sum(axis=1)).T\n",
    "        test_mat = (test_mat.T/test_mat.sum(axis=1)).T\n",
    "        \n",
    "    dist_out = 1 - pairwise_distances(train_mat, metric= metric_)\n",
    "\n",
    "    #without kmeans clustering\n",
    "    user_pred = dist_out.dot(train_mat)/np.array([np.abs(dist_out).sum(axis = 1)]).T\n",
    "    print('w/o kmeans, train:  ',get_rmse(user_pred, train_mat))\n",
    "    print('w/o kmeans, test:  ',get_rmse(user_pred, test_mat))\n",
    "    print('w/o kmeans, train stdev:  ',np.std(user_pred - train_mat))\n",
    "\n",
    "\n",
    "    #with kmeans clustering\n",
    "    neigh = NearestNeighbors(k, metric_)\n",
    "    neigh.fit(train_mat)\n",
    "    top_k_distances, top_k_users = neigh.kneighbors(train_mat, return_distance = True)\n",
    "    user_pred_k = np.zeros(train_mat.shape)\n",
    "    \n",
    "    for i in range(PC_train.shape[0]):\n",
    "        user_pred_k[i,:] = top_k_distances[i].T.dot(train_mat[top_k_users][i]) / np.array([np.abs(top_k_distances[i].T).sum(axis = 0)]).T  \n",
    "    online_pref = pd.DataFrame(user_pred_k)\n",
    "    na_element_index = np.where(np.isnan(online_pref))\n",
    "    na_row_index = np.unique(na_element_index[0])\n",
    "    removed_CLNT_ID = PC_train.index.values[na_row_index]\n",
    "    existed_CLNT_ID = np.delete(PC_train.index.values,na_row_index)\n",
    "    online_pref2 = online_pref.dropna()\n",
    "    user_pred_k2 = online_pref2.as_matrix()\n",
    "    train_mat2 = train_mat\n",
    "    exist_idx = np.delete([range(online_pref.shape[0])],na_row_index)\n",
    "    train_mat2 = train_mat2[exist_idx,:]\n",
    "    print('w/ kmeans, train:  ',get_rmse(user_pred_k2, train_mat2))\n",
    "    print('w/ kmeans, test:  ',get_rmse(user_pred_k2, test_mat))\n",
    "    print('w/ kmeans, train stdev:  ',np.std(user_pred_k2 - train_mat2))\n",
    "\n",
    "\n",
    "    #kmeans 적용한 선호지수 matrix 생성\n",
    "    if output == True :\n",
    "        col_names = Search_Count.columns.values\n",
    "        row_names = existed_CLNT_ID\n",
    "        Online_Preference_Search = pd.DataFrame(user_pred_k2, columns = col_names, index = row_names)\n",
    "        return Online_Preference_Search"
   ]
  },
  {
   "cell_type": "markdown",
   "metadata": {},
   "source": [
    "- 10000명 experiments"
   ]
  },
  {
   "cell_type": "code",
   "execution_count": 33,
   "metadata": {},
   "outputs": [
    {
     "name": "stdout",
     "output_type": "stream",
     "text": [
      "w/o kmeans, train:   67.94028345092731\n",
      "w/o kmeans, test:   30.401526022998492\n",
      "w/o kmeans, train stdev:   21.8246096179\n"
     ]
    },
    {
     "name": "stderr",
     "output_type": "stream",
     "text": [
      "C:\\Users\\lsh93\\Anaconda3\\lib\\site-packages\\ipykernel_launcher.py:23: RuntimeWarning: invalid value encountered in true_divide\n"
     ]
    },
    {
     "name": "stdout",
     "output_type": "stream",
     "text": [
      "w/ kmeans, train:   54.874176894191265\n",
      "w/ kmeans, test:   36.88540631592994\n",
      "w/ kmeans, train stdev:   19.4037783917\n"
     ]
    }
   ],
   "source": [
    "#10000명 sampling한 경우, cosine distance 쓴 경우, k = 5\n",
    "ops = search_prediction(train_mat,test_mat, \"cosine\", 5, True)"
   ]
  },
  {
   "cell_type": "code",
   "execution_count": 34,
   "metadata": {},
   "outputs": [
    {
     "name": "stdout",
     "output_type": "stream",
     "text": [
      "w/o kmeans, train:   127.77850213164407\n",
      "w/o kmeans, test:   126.66256973971018\n",
      "w/o kmeans, train stdev:   61.0784275376\n"
     ]
    },
    {
     "name": "stderr",
     "output_type": "stream",
     "text": [
      "C:\\Users\\lsh93\\Anaconda3\\lib\\site-packages\\ipykernel_launcher.py:23: RuntimeWarning: invalid value encountered in true_divide\n"
     ]
    },
    {
     "name": "stdout",
     "output_type": "stream",
     "text": [
      "w/ kmeans, train:   54.874176894191265\n",
      "w/ kmeans, test:   36.88540631592994\n",
      "w/ kmeans, train stdev:   19.4037783917\n"
     ]
    }
   ],
   "source": [
    "#10000명 sampling한 경우, euclidean distance 쓴 경우, k = 5\n",
    "ops = search_prediction(train_mat,test_mat, \"euclidean\", 5, True)"
   ]
  },
  {
   "cell_type": "code",
   "execution_count": 35,
   "metadata": {},
   "outputs": [
    {
     "name": "stdout",
     "output_type": "stream",
     "text": [
      "w/o kmeans, train:   67.81191797494421\n",
      "w/o kmeans, test:   30.944524554951546\n",
      "w/o kmeans, train stdev:   21.7199837565\n"
     ]
    },
    {
     "name": "stderr",
     "output_type": "stream",
     "text": [
      "C:\\Users\\lsh93\\Anaconda3\\lib\\site-packages\\ipykernel_launcher.py:23: RuntimeWarning: invalid value encountered in true_divide\n"
     ]
    },
    {
     "name": "stdout",
     "output_type": "stream",
     "text": [
      "w/ kmeans, train:   54.874176894191265\n",
      "w/ kmeans, test:   36.88540631592994\n",
      "w/ kmeans, train stdev:   19.4037783917\n"
     ]
    }
   ],
   "source": [
    "#10000명 sampling한 경우, correlation 쓴 경우, k = 5\n",
    "ops = search_prediction(train_mat,test_mat, \"correlation\", 5, True)"
   ]
  },
  {
   "cell_type": "code",
   "execution_count": 36,
   "metadata": {},
   "outputs": [
    {
     "name": "stdout",
     "output_type": "stream",
     "text": [
      "w/o kmeans, train:   0.18979565581422897\n",
      "w/o kmeans, test:   0.35772623973582546\n",
      "w/o kmeans, train stdev:   0.0638590724186\n"
     ]
    },
    {
     "name": "stderr",
     "output_type": "stream",
     "text": [
      "C:\\Users\\lsh93\\Anaconda3\\lib\\site-packages\\ipykernel_launcher.py:23: RuntimeWarning: invalid value encountered in true_divide\n"
     ]
    },
    {
     "name": "stdout",
     "output_type": "stream",
     "text": [
      "w/ kmeans, train:   0.0576526871778342\n",
      "w/ kmeans, test:   0.3793810443858214\n",
      "w/ kmeans, train stdev:   0.0237134132352\n",
      "w/o kmeans, train:   0.2777658169346724\n",
      "w/o kmeans, test:   0.4042345534190704\n",
      "w/o kmeans, train stdev:   0.0909833037868\n",
      "w/ kmeans, train:   0.0576526871778342\n",
      "w/ kmeans, test:   0.3793810443858214\n",
      "w/ kmeans, train stdev:   0.0237134132352\n",
      "w/o kmeans, train:   0.20530686716922966\n",
      "w/o kmeans, test:   0.3728430723669624\n",
      "w/o kmeans, train stdev:   0.0663741847972\n",
      "w/ kmeans, train:   0.0576526871778342\n",
      "w/ kmeans, test:   0.3793810443858214\n",
      "w/ kmeans, train stdev:   0.0237134132352\n"
     ]
    }
   ],
   "source": [
    "##Scaling 적용할 경우\n",
    "#10000명 sampling한 경우, cosine distance 쓴 경우, k = 5\n",
    "ops = search_prediction(train_mat,test_mat, \"cosine\", 5, True, True)\n",
    "ops = search_prediction(train_mat,test_mat, \"euclidean\", 5, True, True)\n",
    "ops = search_prediction(train_mat,test_mat, \"correlation\", 5, True, True)"
   ]
  },
  {
   "cell_type": "markdown",
   "metadata": {},
   "source": [
    "- 20000명 experiments"
   ]
  },
  {
   "cell_type": "code",
   "execution_count": 38,
   "metadata": {},
   "outputs": [
    {
     "name": "stdout",
     "output_type": "stream",
     "text": [
      "w/o kmeans, train:   51.0307569624951\n",
      "w/o kmeans, test:   38.43620901476732\n",
      "w/o kmeans, train stdev:   16.9885693726\n"
     ]
    },
    {
     "name": "stderr",
     "output_type": "stream",
     "text": [
      "C:\\Users\\lsh93\\Anaconda3\\lib\\site-packages\\ipykernel_launcher.py:23: RuntimeWarning: invalid value encountered in true_divide\n"
     ]
    },
    {
     "name": "stdout",
     "output_type": "stream",
     "text": [
      "w/ kmeans, train:   39.7284091550407\n",
      "w/ kmeans, test:   42.160758229311156\n",
      "w/ kmeans, train stdev:   14.5334888121\n"
     ]
    }
   ],
   "source": [
    "#20000명 sampling한 경우, cosine distance 쓴 경우, k = 5\n",
    "ops = search_prediction(train_mat,test_mat, \"cosine\", 5, True)"
   ]
  },
  {
   "cell_type": "code",
   "execution_count": 39,
   "metadata": {
    "scrolled": true
   },
   "outputs": [
    {
     "name": "stdout",
     "output_type": "stream",
     "text": [
      "w/o kmeans, train:   81.6953140808291\n",
      "w/o kmeans, test:   84.7552965030701\n",
      "w/o kmeans, train stdev:   36.4554173034\n"
     ]
    },
    {
     "name": "stderr",
     "output_type": "stream",
     "text": [
      "C:\\Users\\lsh93\\Anaconda3\\lib\\site-packages\\ipykernel_launcher.py:23: RuntimeWarning: invalid value encountered in true_divide\n"
     ]
    },
    {
     "name": "stdout",
     "output_type": "stream",
     "text": [
      "w/ kmeans, train:   39.7284091550407\n",
      "w/ kmeans, test:   42.160758229311156\n",
      "w/ kmeans, train stdev:   14.5334888121\n"
     ]
    }
   ],
   "source": [
    "#20000명 sampling한 경우, euclidean distance 쓴 경우, k = 5\n",
    "ops = search_prediction(train_mat,test_mat, \"euclidean\", 5, True)"
   ]
  },
  {
   "cell_type": "code",
   "execution_count": 40,
   "metadata": {},
   "outputs": [
    {
     "name": "stdout",
     "output_type": "stream",
     "text": [
      "w/o kmeans, train:   50.92519083332362\n",
      "w/o kmeans, test:   39.01708921288831\n",
      "w/o kmeans, train stdev:   16.8726554545\n"
     ]
    },
    {
     "name": "stderr",
     "output_type": "stream",
     "text": [
      "C:\\Users\\lsh93\\Anaconda3\\lib\\site-packages\\ipykernel_launcher.py:23: RuntimeWarning: invalid value encountered in true_divide\n"
     ]
    },
    {
     "name": "stdout",
     "output_type": "stream",
     "text": [
      "w/ kmeans, train:   39.7284091550407\n",
      "w/ kmeans, test:   42.160758229311156\n",
      "w/ kmeans, train stdev:   14.5334888121\n"
     ]
    }
   ],
   "source": [
    "#20000명 sampling한 경우, correlation 쓴 경우, k = 5\n",
    "ops = search_prediction(train_mat,test_mat, \"correlation\", 5, True)"
   ]
  },
  {
   "cell_type": "code",
   "execution_count": 41,
   "metadata": {},
   "outputs": [
    {
     "name": "stdout",
     "output_type": "stream",
     "text": [
      "w/o kmeans, train:   0.18925953599710146\n",
      "w/o kmeans, test:   0.3345583825825382\n",
      "w/o kmeans, train stdev:   0.0656712683558\n"
     ]
    },
    {
     "name": "stderr",
     "output_type": "stream",
     "text": [
      "C:\\Users\\lsh93\\Anaconda3\\lib\\site-packages\\ipykernel_launcher.py:23: RuntimeWarning: invalid value encountered in true_divide\n"
     ]
    },
    {
     "name": "stdout",
     "output_type": "stream",
     "text": [
      "w/ kmeans, train:   0.0517999992664449\n",
      "w/ kmeans, test:   0.35917052432961155\n",
      "w/ kmeans, train stdev:   0.021880093754\n",
      "w/o kmeans, train:   0.2797723972398393\n",
      "w/o kmeans, test:   0.37251701299294415\n",
      "w/o kmeans, train stdev:   0.093898895702\n",
      "w/ kmeans, train:   0.0517999992664449\n",
      "w/ kmeans, test:   0.35917052432961155\n",
      "w/ kmeans, train stdev:   0.021880093754\n",
      "w/o kmeans, train:   0.2107317645353789\n",
      "w/o kmeans, test:   0.35000895265888904\n",
      "w/o kmeans, train stdev:   0.0701529612105\n",
      "w/ kmeans, train:   0.0517999992664449\n",
      "w/ kmeans, test:   0.35917052432961155\n",
      "w/ kmeans, train stdev:   0.021880093754\n"
     ]
    }
   ],
   "source": [
    "##Scaling 적용할 경우\n",
    "#20000명 sampling한 경우, cosine distance 쓴 경우, k = 5\n",
    "ops = search_prediction(train_mat,test_mat, \"cosine\", 5, True, True)\n",
    "ops = search_prediction(train_mat,test_mat, \"euclidean\", 5, True, True)\n",
    "ops = search_prediction(train_mat,test_mat, \"correlation\", 5, True, True)"
   ]
  }
 ],
 "metadata": {
  "kernelspec": {
   "display_name": "Python 3",
   "language": "python",
   "name": "python3"
  },
  "language_info": {
   "codemirror_mode": {
    "name": "ipython",
    "version": 3
   },
   "file_extension": ".py",
   "mimetype": "text/x-python",
   "name": "python",
   "nbconvert_exporter": "python",
   "pygments_lexer": "ipython3",
   "version": "3.6.3"
  }
 },
 "nbformat": 4,
 "nbformat_minor": 2
}
